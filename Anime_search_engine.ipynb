{
 "cells": [
  {
   "cell_type": "code",
   "execution_count": 1,
   "id": "bebbec22",
   "metadata": {},
   "outputs": [
    {
     "name": "stderr",
     "output_type": "stream",
     "text": [
      "[nltk_data] Downloading package stopwords to\n",
      "[nltk_data]     C:\\Users\\Dheer\\AppData\\Roaming\\nltk_data...\n",
      "[nltk_data]   Package stopwords is already up-to-date!\n"
     ]
    }
   ],
   "source": [
    "import pandas as pd\n",
    "import regex as re \n",
    "import numpy as np\n",
    "import nltk\n",
    "nltk.download('stopwords')  # download stopwords if necessary\n",
    "\n",
    "from nltk.corpus import stopwords\n"
   ]
  },
  {
   "cell_type": "code",
   "execution_count": 2,
   "id": "1f0a1b61",
   "metadata": {},
   "outputs": [],
   "source": [
    "from difflib import SequenceMatcher\n",
    "import ast\n",
    "from textblob import TextBlob"
   ]
  },
  {
   "cell_type": "markdown",
   "id": "b7c312a2",
   "metadata": {},
   "source": [
    "# Datasets"
   ]
  },
  {
   "cell_type": "code",
   "execution_count": 3,
   "id": "faf10f7c",
   "metadata": {},
   "outputs": [],
   "source": [
    "df1=pd.read_csv('animes.csv')\n",
    "df2=pd.read_csv('reviews.csv')\n",
    "df3=pd.read_csv('profiles.csv')"
   ]
  },
  {
   "cell_type": "code",
   "execution_count": 4,
   "id": "0189a85c",
   "metadata": {},
   "outputs": [],
   "source": [
    "df1=df1.drop_duplicates(subset=['uid'])\n",
    "df2=df2.drop_duplicates(subset=['uid'])\n",
    "df3=df3.drop_duplicates(subset=['profile'])"
   ]
  },
  {
   "cell_type": "code",
   "execution_count": 5,
   "id": "47c1608b",
   "metadata": {},
   "outputs": [
    {
     "data": {
      "text/plain": [
       "(16216, 12)"
      ]
     },
     "execution_count": 5,
     "metadata": {},
     "output_type": "execute_result"
    }
   ],
   "source": [
    "df1.shape"
   ]
  },
  {
   "cell_type": "markdown",
   "id": "4e805f1d",
   "metadata": {},
   "source": [
    "# List Of Animes"
   ]
  },
  {
   "cell_type": "code",
   "execution_count": 6,
   "id": "f2d30ad2",
   "metadata": {},
   "outputs": [
    {
     "data": {
      "text/html": [
       "<div>\n",
       "<style scoped>\n",
       "    .dataframe tbody tr th:only-of-type {\n",
       "        vertical-align: middle;\n",
       "    }\n",
       "\n",
       "    .dataframe tbody tr th {\n",
       "        vertical-align: top;\n",
       "    }\n",
       "\n",
       "    .dataframe thead th {\n",
       "        text-align: right;\n",
       "    }\n",
       "</style>\n",
       "<table border=\"1\" class=\"dataframe\">\n",
       "  <thead>\n",
       "    <tr style=\"text-align: right;\">\n",
       "      <th></th>\n",
       "      <th>uid</th>\n",
       "      <th>title</th>\n",
       "      <th>synopsis</th>\n",
       "      <th>genre</th>\n",
       "      <th>aired</th>\n",
       "      <th>episodes</th>\n",
       "      <th>members</th>\n",
       "      <th>popularity</th>\n",
       "      <th>ranked</th>\n",
       "      <th>score</th>\n",
       "      <th>img_url</th>\n",
       "      <th>link</th>\n",
       "    </tr>\n",
       "  </thead>\n",
       "  <tbody>\n",
       "    <tr>\n",
       "      <th>0</th>\n",
       "      <td>28891</td>\n",
       "      <td>Haikyuu!! Second Season</td>\n",
       "      <td>Following their participation at the Inter-Hig...</td>\n",
       "      <td>['Comedy', 'Sports', 'Drama', 'School', 'Shoun...</td>\n",
       "      <td>Oct 4, 2015 to Mar 27, 2016</td>\n",
       "      <td>25.0</td>\n",
       "      <td>489888</td>\n",
       "      <td>141</td>\n",
       "      <td>25.0</td>\n",
       "      <td>8.82</td>\n",
       "      <td>https://cdn.myanimelist.net/images/anime/9/766...</td>\n",
       "      <td>https://myanimelist.net/anime/28891/Haikyuu_Se...</td>\n",
       "    </tr>\n",
       "    <tr>\n",
       "      <th>1</th>\n",
       "      <td>23273</td>\n",
       "      <td>Shigatsu wa Kimi no Uso</td>\n",
       "      <td>Music accompanies the path of the human metron...</td>\n",
       "      <td>['Drama', 'Music', 'Romance', 'School', 'Shoun...</td>\n",
       "      <td>Oct 10, 2014 to Mar 20, 2015</td>\n",
       "      <td>22.0</td>\n",
       "      <td>995473</td>\n",
       "      <td>28</td>\n",
       "      <td>24.0</td>\n",
       "      <td>8.83</td>\n",
       "      <td>https://cdn.myanimelist.net/images/anime/3/671...</td>\n",
       "      <td>https://myanimelist.net/anime/23273/Shigatsu_w...</td>\n",
       "    </tr>\n",
       "  </tbody>\n",
       "</table>\n",
       "</div>"
      ],
      "text/plain": [
       "     uid                    title  \\\n",
       "0  28891  Haikyuu!! Second Season   \n",
       "1  23273  Shigatsu wa Kimi no Uso   \n",
       "\n",
       "                                            synopsis  \\\n",
       "0  Following their participation at the Inter-Hig...   \n",
       "1  Music accompanies the path of the human metron...   \n",
       "\n",
       "                                               genre  \\\n",
       "0  ['Comedy', 'Sports', 'Drama', 'School', 'Shoun...   \n",
       "1  ['Drama', 'Music', 'Romance', 'School', 'Shoun...   \n",
       "\n",
       "                          aired  episodes  members  popularity  ranked  score  \\\n",
       "0   Oct 4, 2015 to Mar 27, 2016      25.0   489888         141    25.0   8.82   \n",
       "1  Oct 10, 2014 to Mar 20, 2015      22.0   995473          28    24.0   8.83   \n",
       "\n",
       "                                             img_url  \\\n",
       "0  https://cdn.myanimelist.net/images/anime/9/766...   \n",
       "1  https://cdn.myanimelist.net/images/anime/3/671...   \n",
       "\n",
       "                                                link  \n",
       "0  https://myanimelist.net/anime/28891/Haikyuu_Se...  \n",
       "1  https://myanimelist.net/anime/23273/Shigatsu_w...  "
      ]
     },
     "execution_count": 6,
     "metadata": {},
     "output_type": "execute_result"
    }
   ],
   "source": [
    "df1.head(2)"
   ]
  },
  {
   "cell_type": "code",
   "execution_count": 7,
   "id": "da4af74c",
   "metadata": {},
   "outputs": [
    {
     "data": {
      "text/plain": [
       "(130519, 7)"
      ]
     },
     "execution_count": 7,
     "metadata": {},
     "output_type": "execute_result"
    }
   ],
   "source": [
    "df2.shape"
   ]
  },
  {
   "cell_type": "markdown",
   "id": "9eebe01c",
   "metadata": {},
   "source": [
    "# User Reviews and Scores"
   ]
  },
  {
   "cell_type": "code",
   "execution_count": 8,
   "id": "2941522c",
   "metadata": {},
   "outputs": [
    {
     "data": {
      "text/html": [
       "<div>\n",
       "<style scoped>\n",
       "    .dataframe tbody tr th:only-of-type {\n",
       "        vertical-align: middle;\n",
       "    }\n",
       "\n",
       "    .dataframe tbody tr th {\n",
       "        vertical-align: top;\n",
       "    }\n",
       "\n",
       "    .dataframe thead th {\n",
       "        text-align: right;\n",
       "    }\n",
       "</style>\n",
       "<table border=\"1\" class=\"dataframe\">\n",
       "  <thead>\n",
       "    <tr style=\"text-align: right;\">\n",
       "      <th></th>\n",
       "      <th>uid</th>\n",
       "      <th>profile</th>\n",
       "      <th>anime_uid</th>\n",
       "      <th>text</th>\n",
       "      <th>score</th>\n",
       "      <th>scores</th>\n",
       "      <th>link</th>\n",
       "    </tr>\n",
       "  </thead>\n",
       "  <tbody>\n",
       "    <tr>\n",
       "      <th>0</th>\n",
       "      <td>255938</td>\n",
       "      <td>DesolatePsyche</td>\n",
       "      <td>34096</td>\n",
       "      <td>\\n           \\n         \\n           \\n       ...</td>\n",
       "      <td>8</td>\n",
       "      <td>{'Overall': '8', 'Story': '8', 'Animation': '8...</td>\n",
       "      <td>https://myanimelist.net/reviews.php?id=255938</td>\n",
       "    </tr>\n",
       "    <tr>\n",
       "      <th>1</th>\n",
       "      <td>259117</td>\n",
       "      <td>baekbeans</td>\n",
       "      <td>34599</td>\n",
       "      <td>\\n           \\n         \\n           \\n       ...</td>\n",
       "      <td>10</td>\n",
       "      <td>{'Overall': '10', 'Story': '10', 'Animation': ...</td>\n",
       "      <td>https://myanimelist.net/reviews.php?id=259117</td>\n",
       "    </tr>\n",
       "  </tbody>\n",
       "</table>\n",
       "</div>"
      ],
      "text/plain": [
       "      uid         profile  anime_uid  \\\n",
       "0  255938  DesolatePsyche      34096   \n",
       "1  259117       baekbeans      34599   \n",
       "\n",
       "                                                text  score  \\\n",
       "0  \\n           \\n         \\n           \\n       ...      8   \n",
       "1  \\n           \\n         \\n           \\n       ...     10   \n",
       "\n",
       "                                              scores  \\\n",
       "0  {'Overall': '8', 'Story': '8', 'Animation': '8...   \n",
       "1  {'Overall': '10', 'Story': '10', 'Animation': ...   \n",
       "\n",
       "                                            link  \n",
       "0  https://myanimelist.net/reviews.php?id=255938  \n",
       "1  https://myanimelist.net/reviews.php?id=259117  "
      ]
     },
     "execution_count": 8,
     "metadata": {},
     "output_type": "execute_result"
    }
   ],
   "source": [
    "df2.head(2)"
   ]
  },
  {
   "cell_type": "code",
   "execution_count": 9,
   "id": "e92351c3",
   "metadata": {},
   "outputs": [
    {
     "data": {
      "text/plain": [
       "(47885, 5)"
      ]
     },
     "execution_count": 9,
     "metadata": {},
     "output_type": "execute_result"
    }
   ],
   "source": [
    "df3.shape"
   ]
  },
  {
   "cell_type": "markdown",
   "id": "f118e270",
   "metadata": {},
   "source": [
    "# User profiles , Favaourite Anime List"
   ]
  },
  {
   "cell_type": "code",
   "execution_count": 10,
   "id": "3773ae94",
   "metadata": {},
   "outputs": [],
   "source": [
    "df3['favorites_anime']=df3['favorites_anime'].apply( lambda x: ast.literal_eval(x))"
   ]
  },
  {
   "cell_type": "code",
   "execution_count": 11,
   "id": "c2506ae2",
   "metadata": {},
   "outputs": [
    {
     "data": {
      "text/html": [
       "<div>\n",
       "<style scoped>\n",
       "    .dataframe tbody tr th:only-of-type {\n",
       "        vertical-align: middle;\n",
       "    }\n",
       "\n",
       "    .dataframe tbody tr th {\n",
       "        vertical-align: top;\n",
       "    }\n",
       "\n",
       "    .dataframe thead th {\n",
       "        text-align: right;\n",
       "    }\n",
       "</style>\n",
       "<table border=\"1\" class=\"dataframe\">\n",
       "  <thead>\n",
       "    <tr style=\"text-align: right;\">\n",
       "      <th></th>\n",
       "      <th>profile</th>\n",
       "      <th>gender</th>\n",
       "      <th>birthday</th>\n",
       "      <th>favorites_anime</th>\n",
       "      <th>link</th>\n",
       "    </tr>\n",
       "  </thead>\n",
       "  <tbody>\n",
       "    <tr>\n",
       "      <th>0</th>\n",
       "      <td>DesolatePsyche</td>\n",
       "      <td>Male</td>\n",
       "      <td>Oct 2, 1994</td>\n",
       "      <td>[33352, 25013, 5530, 33674, 1482, 269, 18245, ...</td>\n",
       "      <td>https://myanimelist.net/profile/DesolatePsyche</td>\n",
       "    </tr>\n",
       "    <tr>\n",
       "      <th>1</th>\n",
       "      <td>baekbeans</td>\n",
       "      <td>Female</td>\n",
       "      <td>Nov 10, 2000</td>\n",
       "      <td>[11061, 31964, 853, 20583, 918, 9253, 34599, 3...</td>\n",
       "      <td>https://myanimelist.net/profile/baekbeans</td>\n",
       "    </tr>\n",
       "  </tbody>\n",
       "</table>\n",
       "</div>"
      ],
      "text/plain": [
       "          profile  gender      birthday  \\\n",
       "0  DesolatePsyche    Male   Oct 2, 1994   \n",
       "1       baekbeans  Female  Nov 10, 2000   \n",
       "\n",
       "                                     favorites_anime  \\\n",
       "0  [33352, 25013, 5530, 33674, 1482, 269, 18245, ...   \n",
       "1  [11061, 31964, 853, 20583, 918, 9253, 34599, 3...   \n",
       "\n",
       "                                             link  \n",
       "0  https://myanimelist.net/profile/DesolatePsyche  \n",
       "1       https://myanimelist.net/profile/baekbeans  "
      ]
     },
     "execution_count": 11,
     "metadata": {},
     "output_type": "execute_result"
    }
   ],
   "source": [
    "df3.head(2)"
   ]
  },
  {
   "cell_type": "code",
   "execution_count": null,
   "id": "a5c8ac19",
   "metadata": {},
   "outputs": [],
   "source": []
  },
  {
   "cell_type": "markdown",
   "id": "d7fd18a1",
   "metadata": {},
   "source": [
    "# Name Search"
   ]
  },
  {
   "cell_type": "code",
   "execution_count": 12,
   "id": "8d896e09",
   "metadata": {},
   "outputs": [],
   "source": [
    "#String matching for anime name  using SequenceMatcher\n",
    "stopwords_list = stopwords.words('english')\n",
    "def normalize_string(s):# Lower case the string and clean it.\n",
    "    s = s.lower()\n",
    "    s = re.sub(r'[^a-z0-9 ]+', '', s)\n",
    "    return ' '.join(filter(lambda x: x not in stopwords_list, s.split()))\n",
    "\n",
    "def score_strings(s1, s2):# Comparing the two strings and generating the score of similarity\n",
    "    s1_norm = normalize_string(s1)\n",
    "    s2_norm = normalize_string(s2)\n",
    "    return SequenceMatcher(None,s1_norm,s2_norm ).ratio()\n",
    "    \n",
    "\n",
    "\n",
    "def search_name(s):# Search function using the above two functions to retrieve the dictionary of string matches\n",
    "    results_dict={}\n",
    "    for i,idx in df1.iterrows():\n",
    "        x=score_strings(s,idx['title'])\n",
    "        results_dict[idx['title']]=x\n",
    "    return results_dict\n",
    "\n",
    "\n",
    "    \n",
    "  \n",
    "            "
   ]
  },
  {
   "cell_type": "code",
   "execution_count": 13,
   "id": "05b6c4db",
   "metadata": {},
   "outputs": [],
   "source": [
    "# search function\n",
    "name_result=search_name('naruto')\n",
    "\n",
    "sorted_dict = sorted(name_result.items(), key=lambda x: x[1], reverse=True)# Sorting the dictionary based on values descending \n",
    "    \n",
    "top_5_pairs = sorted_dict[:5]# Top 5 most similary values "
   ]
  },
  {
   "cell_type": "code",
   "execution_count": 14,
   "id": "ae19a000",
   "metadata": {},
   "outputs": [
    {
     "data": {
      "text/plain": [
       "[('Naruto', 1.0),\n",
       " ('Naruto x UT', 0.7058823529411765),\n",
       " ('Nayuta', 0.6666666666666666),\n",
       " ('Haruwo', 0.6666666666666666),\n",
       " ('Tenuto', 0.6666666666666666)]"
      ]
     },
     "execution_count": 14,
     "metadata": {},
     "output_type": "execute_result"
    }
   ],
   "source": [
    "top_5_pairs"
   ]
  },
  {
   "cell_type": "code",
   "execution_count": 15,
   "id": "cd18d0f4",
   "metadata": {},
   "outputs": [
    {
     "data": {
      "text/html": [
       "<div>\n",
       "<style scoped>\n",
       "    .dataframe tbody tr th:only-of-type {\n",
       "        vertical-align: middle;\n",
       "    }\n",
       "\n",
       "    .dataframe tbody tr th {\n",
       "        vertical-align: top;\n",
       "    }\n",
       "\n",
       "    .dataframe thead th {\n",
       "        text-align: right;\n",
       "    }\n",
       "</style>\n",
       "<table border=\"1\" class=\"dataframe\">\n",
       "  <thead>\n",
       "    <tr style=\"text-align: right;\">\n",
       "      <th></th>\n",
       "      <th>uid</th>\n",
       "      <th>title</th>\n",
       "      <th>synopsis</th>\n",
       "      <th>genre</th>\n",
       "      <th>aired</th>\n",
       "      <th>episodes</th>\n",
       "      <th>members</th>\n",
       "      <th>popularity</th>\n",
       "      <th>ranked</th>\n",
       "      <th>score</th>\n",
       "      <th>img_url</th>\n",
       "      <th>link</th>\n",
       "    </tr>\n",
       "  </thead>\n",
       "  <tbody>\n",
       "    <tr>\n",
       "      <th>144</th>\n",
       "      <td>20</td>\n",
       "      <td>Naruto</td>\n",
       "      <td>Moments prior to Naruto Uzumaki's birth, a hug...</td>\n",
       "      <td>['Action', 'Adventure', 'Comedy', 'Super Power...</td>\n",
       "      <td>Oct 3, 2002 to Feb 8, 2007</td>\n",
       "      <td>220.0</td>\n",
       "      <td>1280914</td>\n",
       "      <td>9</td>\n",
       "      <td>670.0</td>\n",
       "      <td>7.93</td>\n",
       "      <td>https://cdn.myanimelist.net/images/anime/13/17...</td>\n",
       "      <td>https://myanimelist.net/anime/20/Naruto</td>\n",
       "    </tr>\n",
       "  </tbody>\n",
       "</table>\n",
       "</div>"
      ],
      "text/plain": [
       "     uid   title                                           synopsis  \\\n",
       "144   20  Naruto  Moments prior to Naruto Uzumaki's birth, a hug...   \n",
       "\n",
       "                                                 genre  \\\n",
       "144  ['Action', 'Adventure', 'Comedy', 'Super Power...   \n",
       "\n",
       "                          aired  episodes  members  popularity  ranked  score  \\\n",
       "144  Oct 3, 2002 to Feb 8, 2007     220.0  1280914           9   670.0   7.93   \n",
       "\n",
       "                                               img_url  \\\n",
       "144  https://cdn.myanimelist.net/images/anime/13/17...   \n",
       "\n",
       "                                        link  \n",
       "144  https://myanimelist.net/anime/20/Naruto  "
      ]
     },
     "execution_count": 15,
     "metadata": {},
     "output_type": "execute_result"
    }
   ],
   "source": [
    "# Top result fetched \n",
    "df1[df1['title']==top_5_pairs[0][0]]"
   ]
  },
  {
   "cell_type": "code",
   "execution_count": null,
   "id": "5b9d8c0c",
   "metadata": {},
   "outputs": [],
   "source": []
  },
  {
   "cell_type": "markdown",
   "id": "daddaa71",
   "metadata": {},
   "source": [
    "# genre\n"
   ]
  },
  {
   "cell_type": "code",
   "execution_count": null,
   "id": "9e044c17",
   "metadata": {},
   "outputs": [],
   "source": []
  },
  {
   "cell_type": "code",
   "execution_count": 16,
   "id": "03a7bbc4",
   "metadata": {},
   "outputs": [],
   "source": [
    "# Converting the list in text form to list form\n",
    "df1['genre']=df1['genre'].apply( lambda x: ast.literal_eval(x))"
   ]
  },
  {
   "cell_type": "code",
   "execution_count": 17,
   "id": "b90862dc",
   "metadata": {},
   "outputs": [],
   "source": [
    "# Create a set of all the unique genres \n",
    "s=set()\n",
    "for i,idx in df1.iterrows():\n",
    "    for j in idx['genre']:\n",
    "        s.add(j)"
   ]
  },
  {
   "cell_type": "code",
   "execution_count": null,
   "id": "f896e90d",
   "metadata": {},
   "outputs": [],
   "source": []
  },
  {
   "cell_type": "code",
   "execution_count": 18,
   "id": "9dcc6c02",
   "metadata": {},
   "outputs": [
    {
     "data": {
      "text/plain": [
       "{'Action',\n",
       " 'Adventure',\n",
       " 'Cars',\n",
       " 'Comedy',\n",
       " 'Dementia',\n",
       " 'Demons',\n",
       " 'Drama',\n",
       " 'Ecchi',\n",
       " 'Fantasy',\n",
       " 'Game',\n",
       " 'Harem',\n",
       " 'Hentai',\n",
       " 'Historical',\n",
       " 'Horror',\n",
       " 'Josei',\n",
       " 'Kids',\n",
       " 'Magic',\n",
       " 'Martial Arts',\n",
       " 'Mecha',\n",
       " 'Military',\n",
       " 'Music',\n",
       " 'Mystery',\n",
       " 'Parody',\n",
       " 'Police',\n",
       " 'Psychological',\n",
       " 'Romance',\n",
       " 'Samurai',\n",
       " 'School',\n",
       " 'Sci-Fi',\n",
       " 'Seinen',\n",
       " 'Shoujo',\n",
       " 'Shoujo Ai',\n",
       " 'Shounen',\n",
       " 'Shounen Ai',\n",
       " 'Slice of Life',\n",
       " 'Space',\n",
       " 'Sports',\n",
       " 'Super Power',\n",
       " 'Supernatural',\n",
       " 'Thriller',\n",
       " 'Vampire',\n",
       " 'Yaoi',\n",
       " 'Yuri'}"
      ]
     },
     "execution_count": 18,
     "metadata": {},
     "output_type": "execute_result"
    }
   ],
   "source": [
    "s"
   ]
  },
  {
   "cell_type": "code",
   "execution_count": 19,
   "id": "63dcefc6",
   "metadata": {},
   "outputs": [
    {
     "data": {
      "text/plain": [
       "43"
      ]
     },
     "execution_count": 19,
     "metadata": {},
     "output_type": "execute_result"
    }
   ],
   "source": [
    "len(s)# count of all the unique genres"
   ]
  },
  {
   "cell_type": "markdown",
   "id": "ae40cc9f",
   "metadata": {},
   "source": [
    "# creating genre_index"
   ]
  },
  {
   "cell_type": "code",
   "execution_count": 20,
   "id": "ede25849",
   "metadata": {},
   "outputs": [
    {
     "data": {
      "text/plain": [
       "{'Shoujo': 0,\n",
       " 'Magic': 1,\n",
       " 'Yuri': 2,\n",
       " 'Music': 3,\n",
       " 'Samurai': 4,\n",
       " 'Psychological': 5,\n",
       " 'Slice of Life': 6,\n",
       " 'Demons': 7,\n",
       " 'Action': 8,\n",
       " 'Parody': 9,\n",
       " 'Space': 10,\n",
       " 'Shounen Ai': 11,\n",
       " 'Romance': 12,\n",
       " 'Police': 13,\n",
       " 'Ecchi': 14,\n",
       " 'Horror': 15,\n",
       " 'Thriller': 16,\n",
       " 'Sports': 17,\n",
       " 'Yaoi': 18,\n",
       " 'Mystery': 19,\n",
       " 'Harem': 20,\n",
       " 'Super Power': 21,\n",
       " 'Fantasy': 22,\n",
       " 'Vampire': 23,\n",
       " 'Hentai': 24,\n",
       " 'Supernatural': 25,\n",
       " 'Sci-Fi': 26,\n",
       " 'Josei': 27,\n",
       " 'Seinen': 28,\n",
       " 'Comedy': 29,\n",
       " 'Kids': 30,\n",
       " 'Game': 31,\n",
       " 'Dementia': 32,\n",
       " 'Shoujo Ai': 33,\n",
       " 'Shounen': 34,\n",
       " 'Martial Arts': 35,\n",
       " 'Military': 36,\n",
       " 'School': 37,\n",
       " 'Adventure': 38,\n",
       " 'Drama': 39,\n",
       " 'Historical': 40,\n",
       " 'Cars': 41,\n",
       " 'Mecha': 42}"
      ]
     },
     "execution_count": 20,
     "metadata": {},
     "output_type": "execute_result"
    }
   ],
   "source": [
    "c=0\n",
    "g_dict={}\n",
    "for i in s:\n",
    "    g_dict[i]=c\n",
    "    c+=1\n",
    "g_dict"
   ]
  },
  {
   "cell_type": "code",
   "execution_count": null,
   "id": "8bb8b6be",
   "metadata": {},
   "outputs": [],
   "source": []
  },
  {
   "cell_type": "code",
   "execution_count": null,
   "id": "a8ca00bd",
   "metadata": {},
   "outputs": [],
   "source": []
  },
  {
   "cell_type": "code",
   "execution_count": 21,
   "id": "54c00224",
   "metadata": {},
   "outputs": [],
   "source": [
    "# Creating genre index for each each row in the dataset\n",
    "s_l=[]\n",
    "for i,idx in df1.iterrows():\n",
    "    c=0\n",
    "    g_dict={}\n",
    "    for i in s:\n",
    "        g_dict[i]=c\n",
    "        c+=1\n",
    "    genre=['0']*43\n",
    "    \n",
    "    # Creating the genre_index for by using the genre array \n",
    "    for j in idx['genre']:\n",
    "        genre[g_dict[j]]='1'\n",
    "        \n",
    "        \n",
    "    s1=''.join(genre)# joining the list to create the string\n",
    "    s_l.append(s1)# all the strings generated for the each row\n",
    "    "
   ]
  },
  {
   "cell_type": "code",
   "execution_count": 22,
   "id": "d8a9df46",
   "metadata": {},
   "outputs": [],
   "source": [
    "# Assigning the genre_index to dataframe\n",
    "df1['genre_index']=s_l"
   ]
  },
  {
   "cell_type": "code",
   "execution_count": 23,
   "id": "8878fad5",
   "metadata": {},
   "outputs": [
    {
     "data": {
      "text/html": [
       "<div>\n",
       "<style scoped>\n",
       "    .dataframe tbody tr th:only-of-type {\n",
       "        vertical-align: middle;\n",
       "    }\n",
       "\n",
       "    .dataframe tbody tr th {\n",
       "        vertical-align: top;\n",
       "    }\n",
       "\n",
       "    .dataframe thead th {\n",
       "        text-align: right;\n",
       "    }\n",
       "</style>\n",
       "<table border=\"1\" class=\"dataframe\">\n",
       "  <thead>\n",
       "    <tr style=\"text-align: right;\">\n",
       "      <th></th>\n",
       "      <th>uid</th>\n",
       "      <th>title</th>\n",
       "      <th>synopsis</th>\n",
       "      <th>genre</th>\n",
       "      <th>aired</th>\n",
       "      <th>episodes</th>\n",
       "      <th>members</th>\n",
       "      <th>popularity</th>\n",
       "      <th>ranked</th>\n",
       "      <th>score</th>\n",
       "      <th>img_url</th>\n",
       "      <th>link</th>\n",
       "      <th>genre_index</th>\n",
       "    </tr>\n",
       "  </thead>\n",
       "  <tbody>\n",
       "    <tr>\n",
       "      <th>0</th>\n",
       "      <td>28891</td>\n",
       "      <td>Haikyuu!! Second Season</td>\n",
       "      <td>Following their participation at the Inter-Hig...</td>\n",
       "      <td>[Comedy, Sports, Drama, School, Shounen]</td>\n",
       "      <td>Oct 4, 2015 to Mar 27, 2016</td>\n",
       "      <td>25.0</td>\n",
       "      <td>489888</td>\n",
       "      <td>141</td>\n",
       "      <td>25.0</td>\n",
       "      <td>8.82</td>\n",
       "      <td>https://cdn.myanimelist.net/images/anime/9/766...</td>\n",
       "      <td>https://myanimelist.net/anime/28891/Haikyuu_Se...</td>\n",
       "      <td>0000000000000000010000000000010000100101000</td>\n",
       "    </tr>\n",
       "    <tr>\n",
       "      <th>1</th>\n",
       "      <td>23273</td>\n",
       "      <td>Shigatsu wa Kimi no Uso</td>\n",
       "      <td>Music accompanies the path of the human metron...</td>\n",
       "      <td>[Drama, Music, Romance, School, Shounen]</td>\n",
       "      <td>Oct 10, 2014 to Mar 20, 2015</td>\n",
       "      <td>22.0</td>\n",
       "      <td>995473</td>\n",
       "      <td>28</td>\n",
       "      <td>24.0</td>\n",
       "      <td>8.83</td>\n",
       "      <td>https://cdn.myanimelist.net/images/anime/3/671...</td>\n",
       "      <td>https://myanimelist.net/anime/23273/Shigatsu_w...</td>\n",
       "      <td>0001000000001000000000000000000000100101000</td>\n",
       "    </tr>\n",
       "    <tr>\n",
       "      <th>2</th>\n",
       "      <td>34599</td>\n",
       "      <td>Made in Abyss</td>\n",
       "      <td>The Abyss—a gaping chasm stretching down into ...</td>\n",
       "      <td>[Sci-Fi, Adventure, Mystery, Drama, Fantasy]</td>\n",
       "      <td>Jul 7, 2017 to Sep 29, 2017</td>\n",
       "      <td>13.0</td>\n",
       "      <td>581663</td>\n",
       "      <td>98</td>\n",
       "      <td>23.0</td>\n",
       "      <td>8.83</td>\n",
       "      <td>https://cdn.myanimelist.net/images/anime/6/867...</td>\n",
       "      <td>https://myanimelist.net/anime/34599/Made_in_Abyss</td>\n",
       "      <td>0000000000000000000100100010000000000011000</td>\n",
       "    </tr>\n",
       "    <tr>\n",
       "      <th>3</th>\n",
       "      <td>5114</td>\n",
       "      <td>Fullmetal Alchemist: Brotherhood</td>\n",
       "      <td>\"In order for something to be obtained, someth...</td>\n",
       "      <td>[Action, Military, Adventure, Comedy, Drama, M...</td>\n",
       "      <td>Apr 5, 2009 to Jul 4, 2010</td>\n",
       "      <td>64.0</td>\n",
       "      <td>1615084</td>\n",
       "      <td>4</td>\n",
       "      <td>1.0</td>\n",
       "      <td>9.23</td>\n",
       "      <td>https://cdn.myanimelist.net/images/anime/1223/...</td>\n",
       "      <td>https://myanimelist.net/anime/5114/Fullmetal_A...</td>\n",
       "      <td>0100000010000000000000100000010000101011000</td>\n",
       "    </tr>\n",
       "    <tr>\n",
       "      <th>4</th>\n",
       "      <td>31758</td>\n",
       "      <td>Kizumonogatari III: Reiketsu-hen</td>\n",
       "      <td>After helping revive the legendary vampire Kis...</td>\n",
       "      <td>[Action, Mystery, Supernatural, Vampire]</td>\n",
       "      <td>Jan 6, 2017</td>\n",
       "      <td>1.0</td>\n",
       "      <td>214621</td>\n",
       "      <td>502</td>\n",
       "      <td>22.0</td>\n",
       "      <td>8.83</td>\n",
       "      <td>https://cdn.myanimelist.net/images/anime/3/815...</td>\n",
       "      <td>https://myanimelist.net/anime/31758/Kizumonoga...</td>\n",
       "      <td>0000000010000000000100010100000000000000000</td>\n",
       "    </tr>\n",
       "  </tbody>\n",
       "</table>\n",
       "</div>"
      ],
      "text/plain": [
       "     uid                             title  \\\n",
       "0  28891           Haikyuu!! Second Season   \n",
       "1  23273           Shigatsu wa Kimi no Uso   \n",
       "2  34599                     Made in Abyss   \n",
       "3   5114  Fullmetal Alchemist: Brotherhood   \n",
       "4  31758  Kizumonogatari III: Reiketsu-hen   \n",
       "\n",
       "                                            synopsis  \\\n",
       "0  Following their participation at the Inter-Hig...   \n",
       "1  Music accompanies the path of the human metron...   \n",
       "2  The Abyss—a gaping chasm stretching down into ...   \n",
       "3  \"In order for something to be obtained, someth...   \n",
       "4  After helping revive the legendary vampire Kis...   \n",
       "\n",
       "                                               genre  \\\n",
       "0           [Comedy, Sports, Drama, School, Shounen]   \n",
       "1           [Drama, Music, Romance, School, Shounen]   \n",
       "2       [Sci-Fi, Adventure, Mystery, Drama, Fantasy]   \n",
       "3  [Action, Military, Adventure, Comedy, Drama, M...   \n",
       "4           [Action, Mystery, Supernatural, Vampire]   \n",
       "\n",
       "                          aired  episodes  members  popularity  ranked  score  \\\n",
       "0   Oct 4, 2015 to Mar 27, 2016      25.0   489888         141    25.0   8.82   \n",
       "1  Oct 10, 2014 to Mar 20, 2015      22.0   995473          28    24.0   8.83   \n",
       "2   Jul 7, 2017 to Sep 29, 2017      13.0   581663          98    23.0   8.83   \n",
       "3    Apr 5, 2009 to Jul 4, 2010      64.0  1615084           4     1.0   9.23   \n",
       "4                   Jan 6, 2017       1.0   214621         502    22.0   8.83   \n",
       "\n",
       "                                             img_url  \\\n",
       "0  https://cdn.myanimelist.net/images/anime/9/766...   \n",
       "1  https://cdn.myanimelist.net/images/anime/3/671...   \n",
       "2  https://cdn.myanimelist.net/images/anime/6/867...   \n",
       "3  https://cdn.myanimelist.net/images/anime/1223/...   \n",
       "4  https://cdn.myanimelist.net/images/anime/3/815...   \n",
       "\n",
       "                                                link  \\\n",
       "0  https://myanimelist.net/anime/28891/Haikyuu_Se...   \n",
       "1  https://myanimelist.net/anime/23273/Shigatsu_w...   \n",
       "2  https://myanimelist.net/anime/34599/Made_in_Abyss   \n",
       "3  https://myanimelist.net/anime/5114/Fullmetal_A...   \n",
       "4  https://myanimelist.net/anime/31758/Kizumonoga...   \n",
       "\n",
       "                                   genre_index  \n",
       "0  0000000000000000010000000000010000100101000  \n",
       "1  0001000000001000000000000000000000100101000  \n",
       "2  0000000000000000000100100010000000000011000  \n",
       "3  0100000010000000000000100000010000101011000  \n",
       "4  0000000010000000000100010100000000000000000  "
      ]
     },
     "execution_count": 23,
     "metadata": {},
     "output_type": "execute_result"
    }
   ],
   "source": [
    "df1.head()"
   ]
  },
  {
   "cell_type": "code",
   "execution_count": 24,
   "id": "3c330b79",
   "metadata": {},
   "outputs": [
    {
     "data": {
      "text/plain": [
       "genre             [Comedy, Sports, Drama, School, Shounen]\n",
       "genre_index    0000000000000000010000000000010000100101000\n",
       "Name: 0, dtype: object"
      ]
     },
     "execution_count": 24,
     "metadata": {},
     "output_type": "execute_result"
    }
   ],
   "source": [
    "df1.iloc[0,[3,12]]"
   ]
  },
  {
   "cell_type": "code",
   "execution_count": 25,
   "id": "f1e6960e",
   "metadata": {},
   "outputs": [],
   "source": [
    "# Taking the input and converting it into same genre_index \n",
    "def genre_input(l1):\n",
    "    \n",
    "    genre=['0']*43\n",
    "    c=0\n",
    "    g_dict={}\n",
    "    for i in s:\n",
    "        g_dict[i]=c\n",
    "        c+=1\n",
    "        \n",
    "        \n",
    "    for j in l1:# given input list of genres, convert it into the genre_index\n",
    "        genre[g_dict[j]]='1'\n",
    "    s1=''.join(genre)\n",
    "    print(s1)# Printing the generated string.\n",
    "    return s1\n"
   ]
  },
  {
   "cell_type": "code",
   "execution_count": 26,
   "id": "7597ca33",
   "metadata": {},
   "outputs": [],
   "source": [
    "# comparing two genre indexes of input genres and all the animes genres in the dataframe\n",
    "def genre_search(s1,df1):\n",
    "    genre_result_dict={}\n",
    "    for i,idx in df1.iterrows():\n",
    "        log=0\n",
    "        for j in range(len(s1)):\n",
    "            if s1[j]=='1' and idx['genre_index'][j]!='1':\n",
    "                log=1\n",
    "                break\n",
    "        if log!=1:\n",
    "            #print(idx['title'])\n",
    "            genre_result_dict[idx['title']]=idx['score']\n",
    "    return genre_result_dict\n",
    "                \n",
    "    "
   ]
  },
  {
   "cell_type": "code",
   "execution_count": 42,
   "id": "7f7d141a",
   "metadata": {},
   "outputs": [
    {
     "name": "stdout",
     "output_type": "stream",
     "text": [
      "0000000010000000000001000000000000000001000\n"
     ]
    }
   ],
   "source": [
    "r1=genre_input(['Action','Super Power','Drama'])\n",
    "#print(r1)\n",
    "result_dict=genre_search(r1,df1)\n",
    "#print(result_dict)\n",
    "sorted_dict_genre = sorted(result_dict.items(), key=lambda x: x[1], reverse=True)# sorting in decreasing order of score \n",
    "top_5_pairs_genre = sorted_dict_genre[:5]"
   ]
  },
  {
   "cell_type": "code",
   "execution_count": 43,
   "id": "8b7e2478",
   "metadata": {},
   "outputs": [
    {
     "data": {
      "text/plain": [
       "[('Shingeki no Kyojin Season 3 Part 2', 9.07),\n",
       " ('Code Geass: Hangyaku no Lelouch R2', 8.93),\n",
       " ('Code Geass: Hangyaku no Lelouch', 8.76),\n",
       " ('One Piece', 8.53),\n",
       " ('Shingeki no Kyojin Season 3', 8.49)]"
      ]
     },
     "execution_count": 43,
     "metadata": {},
     "output_type": "execute_result"
    }
   ],
   "source": [
    "top_5_pairs_genre"
   ]
  },
  {
   "cell_type": "code",
   "execution_count": null,
   "id": "50f67363",
   "metadata": {},
   "outputs": [],
   "source": []
  },
  {
   "cell_type": "markdown",
   "id": "fe5575c1",
   "metadata": {},
   "source": [
    "# Reviews retrieval"
   ]
  },
  {
   "cell_type": "code",
   "execution_count": 29,
   "id": "abb93396",
   "metadata": {},
   "outputs": [],
   "source": [
    "# # giving anime id as input - and dataframe - it retruns list of all the reviews \n",
    "# def get_reviews(a_id,df2):\n",
    "#     gk=df2.groupby('anime_uid')\n",
    "#     l=df2[df2.index.isin(temp.groups[a_id])]['text'].values\n",
    "    "
   ]
  },
  {
   "cell_type": "code",
   "execution_count": 30,
   "id": "2bb2a27c",
   "metadata": {},
   "outputs": [],
   "source": [
    "# passing the list of reviews for the specific anime id and returning the cleaned reviews and the sentiment scores \n",
    "def senti_analysis(l1):\n",
    "    senti_dict={}\n",
    "    for i in l1:\n",
    "        \n",
    "        if type(i)==str:\n",
    "            #print('akhsfdk')\n",
    "            text=i\n",
    "            text = re.sub(\"[^a-zA-Z]\", \" \", text)\n",
    "            text = text.lower()\n",
    "            cleaned_text = re.sub('\\s+', ' ', text).strip()# cleaning of the text \n",
    "            sentiment_score = TextBlob(cleaned_text).sentiment.polarity# calculating  sentiment score for each review of anime\n",
    "            senti_dict[cleaned_text]=sentiment_score\n",
    "            #print(sentiment_score,cleaned_text)\n",
    "        \n",
    "    return senti_dict"
   ]
  },
  {
   "cell_type": "code",
   "execution_count": 31,
   "id": "27a8d526",
   "metadata": {},
   "outputs": [],
   "source": [
    "anime_id_groupby=df2.groupby('anime_uid')# Grouping based on animes to fectch the reviews"
   ]
  },
  {
   "cell_type": "code",
   "execution_count": 32,
   "id": "52315e6b",
   "metadata": {},
   "outputs": [
    {
     "name": "stdout",
     "output_type": "stream",
     "text": [
      "enter anime uid5114\n"
     ]
    }
   ],
   "source": [
    "result_senti=senti_analysis(list(df2[df2.index.isin(anime_id_groupby.groups[int(input('enter anime uid'))])]['text'].values))"
   ]
  },
  {
   "cell_type": "code",
   "execution_count": 33,
   "id": "d6bd96ed",
   "metadata": {},
   "outputs": [
    {
     "data": {
      "text/plain": [
       "[('more pics overall story animation sound character enjoyment this is one of the greatest anime s i have ever seen in my life after watching this show more then three times it is truly perfect characters and character development is amazing the story line has you thinking is one of the most original stories i have ever seen the sound and openings are great the art style fits the anime perfectly and it brings out the personality of the characters overall this is truly the greatest anime helpful',\n",
       "  0.5767857142857142),\n",
       " ('more pics overall story animation sound character enjoyment the anime is great just a huge masterpiece you may not need a tissue box since it is not that kind of anime but hey it is a very good anime it s about two boys who s mother died and tried to transmute their mother the story is good art is nice and the characters background is very interesting i recommend this to any otaku out there if you are wondering if there is romance than there is romance but takes some time to develop i shed some tears at the end because i knew that i would not be seeing more of this amazing anime recommend this helpful',\n",
       "  0.555),\n",
       " ('more pics overall story animation sound character enjoyment one of the best anime ever created everything is awesome but i want to highlight the characters and the plot are you searching for an anime with amazing characters and an awesome plot so you need to see this anime in my entire life i ve never seen a story that i loved all the characters even the bad guys if you are searching for an anime with characters that you re gonna love you must see fullmetal alchemist brotherhood now the plot well is fu amazing too it s so good that i don t have words to describe how awesome it is so in my opinion this anime is one of the shows that must be in your list of animes that i want to see helpful',\n",
       "  0.5214285714285715),\n",
       " ('more pics overall story animation sound character enjoyment fullmetal alchemist brotherhood is the best anime ever best story of all time best animation of interesting characters and highly enjoyable this one is the best this anime should be number one at first i thought this one wasn t better than the top action anime titles but when i watched the first season fma i started to enjoy the anime but not like code geass which really has a great and interesting story but when i watched fma brotherhood that shocks me that there is an anime who has a better story than code geass and death note the fighting scenes in fma brotherhood is amazing but naruto bleach and one piece has more rich and better fighting scenes but overall fighting scenes story animation characters and enjoyment fullmetal alchemist brotherhood rocks for my opinion fullmetal alchemist brotherhood is the best anime of all time and deserves to be number one helpful',\n",
       "  0.515),\n",
       " ('more pics overall story animation sound character enjoyment a re styling of fullmetal alchemist with crisper animation more plot more logical storylines and better backstory brotherhood follows the plot of the manga more closely giving ed and al s father more of a role and i think most of the voice actors returned which is great because ed and al are perfect if you re going to watch just one watch this one helpful',\n",
       "  0.49583333333333335)]"
      ]
     },
     "execution_count": 33,
     "metadata": {},
     "output_type": "execute_result"
    }
   ],
   "source": [
    "#result_senti getting the reviews top 5 based on sentiment score .\n",
    "sort_senti=sorted(result_senti.items(), key=lambda x: x[1], reverse=True)\n",
    "sort_senti[:5]\n",
    "#sort_senti[-5:]"
   ]
  },
  {
   "cell_type": "code",
   "execution_count": null,
   "id": "05574ca1",
   "metadata": {},
   "outputs": [],
   "source": []
  },
  {
   "cell_type": "code",
   "execution_count": 34,
   "id": "900b5166",
   "metadata": {},
   "outputs": [],
   "source": [
    "# based on users search result , we suggest more animes using the profiles favorite animes history."
   ]
  },
  {
   "cell_type": "code",
   "execution_count": 35,
   "id": "207e167f",
   "metadata": {},
   "outputs": [
    {
     "name": "stdout",
     "output_type": "stream",
     "text": [
      "enter anime id 5114\n"
     ]
    },
    {
     "data": {
      "text/html": [
       "<div>\n",
       "<style scoped>\n",
       "    .dataframe tbody tr th:only-of-type {\n",
       "        vertical-align: middle;\n",
       "    }\n",
       "\n",
       "    .dataframe tbody tr th {\n",
       "        vertical-align: top;\n",
       "    }\n",
       "\n",
       "    .dataframe thead th {\n",
       "        text-align: right;\n",
       "    }\n",
       "</style>\n",
       "<table border=\"1\" class=\"dataframe\">\n",
       "  <thead>\n",
       "    <tr style=\"text-align: right;\">\n",
       "      <th></th>\n",
       "      <th>uid</th>\n",
       "      <th>title</th>\n",
       "      <th>synopsis</th>\n",
       "      <th>genre</th>\n",
       "      <th>aired</th>\n",
       "      <th>episodes</th>\n",
       "      <th>members</th>\n",
       "      <th>popularity</th>\n",
       "      <th>ranked</th>\n",
       "      <th>score</th>\n",
       "      <th>img_url</th>\n",
       "      <th>link</th>\n",
       "      <th>genre_index</th>\n",
       "    </tr>\n",
       "  </thead>\n",
       "  <tbody>\n",
       "    <tr>\n",
       "      <th>3</th>\n",
       "      <td>5114</td>\n",
       "      <td>Fullmetal Alchemist: Brotherhood</td>\n",
       "      <td>\"In order for something to be obtained, someth...</td>\n",
       "      <td>[Action, Military, Adventure, Comedy, Drama, M...</td>\n",
       "      <td>Apr 5, 2009 to Jul 4, 2010</td>\n",
       "      <td>64.0</td>\n",
       "      <td>1615084</td>\n",
       "      <td>4</td>\n",
       "      <td>1.0</td>\n",
       "      <td>9.23</td>\n",
       "      <td>https://cdn.myanimelist.net/images/anime/1223/...</td>\n",
       "      <td>https://myanimelist.net/anime/5114/Fullmetal_A...</td>\n",
       "      <td>0100000010000000000000100000010000101011000</td>\n",
       "    </tr>\n",
       "    <tr>\n",
       "      <th>740</th>\n",
       "      <td>1535</td>\n",
       "      <td>Death Note</td>\n",
       "      <td>A shinigami, as a god of death, can kill any p...</td>\n",
       "      <td>[Mystery, Police, Psychological, Supernatural,...</td>\n",
       "      <td>Oct 4, 2006 to Jun 27, 2007</td>\n",
       "      <td>37.0</td>\n",
       "      <td>1871043</td>\n",
       "      <td>1</td>\n",
       "      <td>52.0</td>\n",
       "      <td>8.65</td>\n",
       "      <td>https://cdn.myanimelist.net/images/anime/9/945...</td>\n",
       "      <td>https://myanimelist.net/anime/1535/Death_Note</td>\n",
       "      <td>0000010000000100100100000100000000100000000</td>\n",
       "    </tr>\n",
       "    <tr>\n",
       "      <th>764</th>\n",
       "      <td>1</td>\n",
       "      <td>Cowboy Bebop</td>\n",
       "      <td>In the year 2071, humanity has colonized sever...</td>\n",
       "      <td>[Action, Adventure, Comedy, Drama, Sci-Fi, Space]</td>\n",
       "      <td>Apr 3, 1998 to Apr 24, 1999</td>\n",
       "      <td>26.0</td>\n",
       "      <td>930311</td>\n",
       "      <td>39</td>\n",
       "      <td>26.0</td>\n",
       "      <td>8.81</td>\n",
       "      <td>https://cdn.myanimelist.net/images/anime/4/196...</td>\n",
       "      <td>https://myanimelist.net/anime/1/Cowboy_Bebop</td>\n",
       "      <td>0000000010100000000000000010010000000011000</td>\n",
       "    </tr>\n",
       "    <tr>\n",
       "      <th>772</th>\n",
       "      <td>11061</td>\n",
       "      <td>Hunter x Hunter (2011)</td>\n",
       "      <td>Hunter x Hunter  is set in a world where Hunte...</td>\n",
       "      <td>[Action, Adventure, Fantasy, Shounen, Super Po...</td>\n",
       "      <td>Oct 2, 2011 to Sep 24, 2014</td>\n",
       "      <td>148.0</td>\n",
       "      <td>1052761</td>\n",
       "      <td>20</td>\n",
       "      <td>3.0</td>\n",
       "      <td>9.11</td>\n",
       "      <td>https://cdn.myanimelist.net/images/anime/11/33...</td>\n",
       "      <td>https://myanimelist.net/anime/11061/Hunter_x_H...</td>\n",
       "      <td>0000000010000000000001100000000000100010000</td>\n",
       "    </tr>\n",
       "    <tr>\n",
       "      <th>773</th>\n",
       "      <td>9253</td>\n",
       "      <td>Steins;Gate</td>\n",
       "      <td>The self-proclaimed mad scientist Rintarou Oka...</td>\n",
       "      <td>[Thriller, Sci-Fi]</td>\n",
       "      <td>Apr 6, 2011 to Sep 14, 2011</td>\n",
       "      <td>24.0</td>\n",
       "      <td>1331710</td>\n",
       "      <td>7</td>\n",
       "      <td>2.0</td>\n",
       "      <td>9.11</td>\n",
       "      <td>https://cdn.myanimelist.net/images/anime/5/731...</td>\n",
       "      <td>https://myanimelist.net/anime/9253/Steins_Gate</td>\n",
       "      <td>0000000000000000100000000010000000000000000</td>\n",
       "    </tr>\n",
       "  </tbody>\n",
       "</table>\n",
       "</div>"
      ],
      "text/plain": [
       "       uid                             title  \\\n",
       "3     5114  Fullmetal Alchemist: Brotherhood   \n",
       "740   1535                        Death Note   \n",
       "764      1                      Cowboy Bebop   \n",
       "772  11061            Hunter x Hunter (2011)   \n",
       "773   9253                       Steins;Gate   \n",
       "\n",
       "                                              synopsis  \\\n",
       "3    \"In order for something to be obtained, someth...   \n",
       "740  A shinigami, as a god of death, can kill any p...   \n",
       "764  In the year 2071, humanity has colonized sever...   \n",
       "772  Hunter x Hunter  is set in a world where Hunte...   \n",
       "773  The self-proclaimed mad scientist Rintarou Oka...   \n",
       "\n",
       "                                                 genre  \\\n",
       "3    [Action, Military, Adventure, Comedy, Drama, M...   \n",
       "740  [Mystery, Police, Psychological, Supernatural,...   \n",
       "764  [Action, Adventure, Comedy, Drama, Sci-Fi, Space]   \n",
       "772  [Action, Adventure, Fantasy, Shounen, Super Po...   \n",
       "773                                 [Thriller, Sci-Fi]   \n",
       "\n",
       "                           aired  episodes  members  popularity  ranked  \\\n",
       "3     Apr 5, 2009 to Jul 4, 2010      64.0  1615084           4     1.0   \n",
       "740  Oct 4, 2006 to Jun 27, 2007      37.0  1871043           1    52.0   \n",
       "764  Apr 3, 1998 to Apr 24, 1999      26.0   930311          39    26.0   \n",
       "772  Oct 2, 2011 to Sep 24, 2014     148.0  1052761          20     3.0   \n",
       "773  Apr 6, 2011 to Sep 14, 2011      24.0  1331710           7     2.0   \n",
       "\n",
       "     score                                            img_url  \\\n",
       "3     9.23  https://cdn.myanimelist.net/images/anime/1223/...   \n",
       "740   8.65  https://cdn.myanimelist.net/images/anime/9/945...   \n",
       "764   8.81  https://cdn.myanimelist.net/images/anime/4/196...   \n",
       "772   9.11  https://cdn.myanimelist.net/images/anime/11/33...   \n",
       "773   9.11  https://cdn.myanimelist.net/images/anime/5/731...   \n",
       "\n",
       "                                                  link  \\\n",
       "3    https://myanimelist.net/anime/5114/Fullmetal_A...   \n",
       "740      https://myanimelist.net/anime/1535/Death_Note   \n",
       "764       https://myanimelist.net/anime/1/Cowboy_Bebop   \n",
       "772  https://myanimelist.net/anime/11061/Hunter_x_H...   \n",
       "773     https://myanimelist.net/anime/9253/Steins_Gate   \n",
       "\n",
       "                                     genre_index  \n",
       "3    0100000010000000000000100000010000101011000  \n",
       "740  0000010000000100100100000100000000100000000  \n",
       "764  0000000010100000000000000010010000000011000  \n",
       "772  0000000010000000000001100000000000100010000  \n",
       "773  0000000000000000100000000010000000000000000  "
      ]
     },
     "execution_count": 35,
     "metadata": {},
     "output_type": "execute_result"
    }
   ],
   "source": [
    "def get_recommend():\n",
    "    gk1=df2.groupby('anime_uid')\n",
    "    l3=[]\n",
    "    for i,idx in df3[df3['profile'].isin(list(gk1.get_group(int(input('enter anime id ')))['profile'].values))].iterrows():\n",
    "        for j in idx['favorites_anime']:\n",
    "            l3.append(j)\n",
    "    return df1[df1['uid'].isin([int(x) for x in list(pd.Series(l3).value_counts()[:5].index)])]\n",
    "recommendations=get_recommend()\n",
    "recommendations"
   ]
  },
  {
   "cell_type": "markdown",
   "id": "7fb7cd2a",
   "metadata": {},
   "source": [
    "# Below are the step wise results for the above function"
   ]
  },
  {
   "cell_type": "code",
   "execution_count": 36,
   "id": "e456aa72",
   "metadata": {},
   "outputs": [
    {
     "data": {
      "text/html": [
       "<div>\n",
       "<style scoped>\n",
       "    .dataframe tbody tr th:only-of-type {\n",
       "        vertical-align: middle;\n",
       "    }\n",
       "\n",
       "    .dataframe tbody tr th {\n",
       "        vertical-align: top;\n",
       "    }\n",
       "\n",
       "    .dataframe thead th {\n",
       "        text-align: right;\n",
       "    }\n",
       "</style>\n",
       "<table border=\"1\" class=\"dataframe\">\n",
       "  <thead>\n",
       "    <tr style=\"text-align: right;\">\n",
       "      <th></th>\n",
       "      <th>uid</th>\n",
       "      <th>title</th>\n",
       "      <th>synopsis</th>\n",
       "      <th>genre</th>\n",
       "      <th>aired</th>\n",
       "      <th>episodes</th>\n",
       "      <th>members</th>\n",
       "      <th>popularity</th>\n",
       "      <th>ranked</th>\n",
       "      <th>score</th>\n",
       "      <th>img_url</th>\n",
       "      <th>link</th>\n",
       "      <th>genre_index</th>\n",
       "    </tr>\n",
       "  </thead>\n",
       "  <tbody>\n",
       "    <tr>\n",
       "      <th>144</th>\n",
       "      <td>20</td>\n",
       "      <td>Naruto</td>\n",
       "      <td>Moments prior to Naruto Uzumaki's birth, a hug...</td>\n",
       "      <td>[Action, Adventure, Comedy, Super Power, Marti...</td>\n",
       "      <td>Oct 3, 2002 to Feb 8, 2007</td>\n",
       "      <td>220.0</td>\n",
       "      <td>1280914</td>\n",
       "      <td>9</td>\n",
       "      <td>670.0</td>\n",
       "      <td>7.93</td>\n",
       "      <td>https://cdn.myanimelist.net/images/anime/13/17...</td>\n",
       "      <td>https://myanimelist.net/anime/20/Naruto</td>\n",
       "      <td>0000000010000000000001000000010000110010000</td>\n",
       "    </tr>\n",
       "  </tbody>\n",
       "</table>\n",
       "</div>"
      ],
      "text/plain": [
       "     uid   title                                           synopsis  \\\n",
       "144   20  Naruto  Moments prior to Naruto Uzumaki's birth, a hug...   \n",
       "\n",
       "                                                 genre  \\\n",
       "144  [Action, Adventure, Comedy, Super Power, Marti...   \n",
       "\n",
       "                          aired  episodes  members  popularity  ranked  score  \\\n",
       "144  Oct 3, 2002 to Feb 8, 2007     220.0  1280914           9   670.0   7.93   \n",
       "\n",
       "                                               img_url  \\\n",
       "144  https://cdn.myanimelist.net/images/anime/13/17...   \n",
       "\n",
       "                                        link  \\\n",
       "144  https://myanimelist.net/anime/20/Naruto   \n",
       "\n",
       "                                     genre_index  \n",
       "144  0000000010000000000001000000010000110010000  "
      ]
     },
     "execution_count": 36,
     "metadata": {},
     "output_type": "execute_result"
    }
   ],
   "source": [
    "df1[df1['uid']==20]"
   ]
  },
  {
   "cell_type": "code",
   "execution_count": 37,
   "id": "fc520658",
   "metadata": {},
   "outputs": [
    {
     "data": {
      "text/plain": [
       "4313        webkid94\n",
       "4328     LazerzGoPew\n",
       "4329      jaydevraol\n",
       "4330         Xinaida\n",
       "4331    Golden_Age12\n",
       "            ...     \n",
       "4791          lahzor\n",
       "4792         link9us\n",
       "4793    Ston3_FreeN7\n",
       "4794     theeggman85\n",
       "4795        TheLlama\n",
       "Name: profile, Length: 331, dtype: object"
      ]
     },
     "execution_count": 37,
     "metadata": {},
     "output_type": "execute_result"
    }
   ],
   "source": [
    "gk1=df2.groupby('anime_uid')\n",
    "gk1.get_group(20)['profile']"
   ]
  },
  {
   "cell_type": "code",
   "execution_count": 38,
   "id": "1ebe019c",
   "metadata": {},
   "outputs": [
    {
     "data": {
      "text/html": [
       "<div>\n",
       "<style scoped>\n",
       "    .dataframe tbody tr th:only-of-type {\n",
       "        vertical-align: middle;\n",
       "    }\n",
       "\n",
       "    .dataframe tbody tr th {\n",
       "        vertical-align: top;\n",
       "    }\n",
       "\n",
       "    .dataframe thead th {\n",
       "        text-align: right;\n",
       "    }\n",
       "</style>\n",
       "<table border=\"1\" class=\"dataframe\">\n",
       "  <thead>\n",
       "    <tr style=\"text-align: right;\">\n",
       "      <th></th>\n",
       "      <th>profile</th>\n",
       "      <th>gender</th>\n",
       "      <th>birthday</th>\n",
       "      <th>favorites_anime</th>\n",
       "      <th>link</th>\n",
       "    </tr>\n",
       "  </thead>\n",
       "  <tbody>\n",
       "    <tr>\n",
       "      <th>15</th>\n",
       "      <td>12sed</td>\n",
       "      <td>NaN</td>\n",
       "      <td>NaN</td>\n",
       "      <td>[30, 16201, 22135]</td>\n",
       "      <td>https://myanimelist.net/profile/12sed</td>\n",
       "    </tr>\n",
       "    <tr>\n",
       "      <th>31</th>\n",
       "      <td>ggultra2764</td>\n",
       "      <td>Male</td>\n",
       "      <td>May 29, 1985</td>\n",
       "      <td>[512, 7193, 165, 440, 634]</td>\n",
       "      <td>https://myanimelist.net/profile/ggultra2764</td>\n",
       "    </tr>\n",
       "    <tr>\n",
       "      <th>50</th>\n",
       "      <td>BabyGirl06301</td>\n",
       "      <td>Female</td>\n",
       "      <td>Sep 6, 1997</td>\n",
       "      <td>[20, 18507, 18689, 20583, 11771, 31964, 20507,...</td>\n",
       "      <td>https://myanimelist.net/profile/BabyGirl06301</td>\n",
       "    </tr>\n",
       "    <tr>\n",
       "      <th>52</th>\n",
       "      <td>ImTheRhetorician</td>\n",
       "      <td>Male</td>\n",
       "      <td>NaN</td>\n",
       "      <td>[269, 5958, 7724, 1735]</td>\n",
       "      <td>https://myanimelist.net/profile/ImTheRhetorician</td>\n",
       "    </tr>\n",
       "    <tr>\n",
       "      <th>118</th>\n",
       "      <td>Dante012</td>\n",
       "      <td>Male</td>\n",
       "      <td>NaN</td>\n",
       "      <td>[2581, 4181, 2904]</td>\n",
       "      <td>https://myanimelist.net/profile/Dante012</td>\n",
       "    </tr>\n",
       "    <tr>\n",
       "      <th>...</th>\n",
       "      <td>...</td>\n",
       "      <td>...</td>\n",
       "      <td>...</td>\n",
       "      <td>...</td>\n",
       "      <td>...</td>\n",
       "    </tr>\n",
       "    <tr>\n",
       "      <th>3957</th>\n",
       "      <td>milkman57</td>\n",
       "      <td>Male</td>\n",
       "      <td>May 16, 1988</td>\n",
       "      <td>[1735, 237, 5114, 98, 9253]</td>\n",
       "      <td>https://myanimelist.net/profile/milkman57</td>\n",
       "    </tr>\n",
       "    <tr>\n",
       "      <th>3958</th>\n",
       "      <td>lahzor</td>\n",
       "      <td>Male</td>\n",
       "      <td>NaN</td>\n",
       "      <td>[1, 44, 392]</td>\n",
       "      <td>https://myanimelist.net/profile/lahzor</td>\n",
       "    </tr>\n",
       "    <tr>\n",
       "      <th>3959</th>\n",
       "      <td>Ston3_FreeN7</td>\n",
       "      <td>Male</td>\n",
       "      <td>Sep 17, 1988</td>\n",
       "      <td>[32, 11061, 440, 30, 820, 3297, 801, 16, 1453,...</td>\n",
       "      <td>https://myanimelist.net/profile/Ston3_FreeN7</td>\n",
       "    </tr>\n",
       "    <tr>\n",
       "      <th>3960</th>\n",
       "      <td>link9us</td>\n",
       "      <td>Male</td>\n",
       "      <td>Jan 6, 1985</td>\n",
       "      <td>[21, 16067, 30, 9253, 160, 437, 2001, 1293, 1,...</td>\n",
       "      <td>https://myanimelist.net/profile/link9us</td>\n",
       "    </tr>\n",
       "    <tr>\n",
       "      <th>3961</th>\n",
       "      <td>theeggman85</td>\n",
       "      <td>Male</td>\n",
       "      <td>Dec 23</td>\n",
       "      <td>[61, 2904, 10087, 4181, 45]</td>\n",
       "      <td>https://myanimelist.net/profile/theeggman85</td>\n",
       "    </tr>\n",
       "  </tbody>\n",
       "</table>\n",
       "<p>331 rows × 5 columns</p>\n",
       "</div>"
      ],
      "text/plain": [
       "               profile  gender      birthday  \\\n",
       "15               12sed     NaN           NaN   \n",
       "31         ggultra2764    Male  May 29, 1985   \n",
       "50       BabyGirl06301  Female   Sep 6, 1997   \n",
       "52    ImTheRhetorician    Male           NaN   \n",
       "118           Dante012    Male           NaN   \n",
       "...                ...     ...           ...   \n",
       "3957         milkman57    Male  May 16, 1988   \n",
       "3958            lahzor    Male           NaN   \n",
       "3959      Ston3_FreeN7    Male  Sep 17, 1988   \n",
       "3960           link9us    Male   Jan 6, 1985   \n",
       "3961       theeggman85    Male        Dec 23   \n",
       "\n",
       "                                        favorites_anime  \\\n",
       "15                                   [30, 16201, 22135]   \n",
       "31                           [512, 7193, 165, 440, 634]   \n",
       "50    [20, 18507, 18689, 20583, 11771, 31964, 20507,...   \n",
       "52                              [269, 5958, 7724, 1735]   \n",
       "118                                  [2581, 4181, 2904]   \n",
       "...                                                 ...   \n",
       "3957                        [1735, 237, 5114, 98, 9253]   \n",
       "3958                                       [1, 44, 392]   \n",
       "3959  [32, 11061, 440, 30, 820, 3297, 801, 16, 1453,...   \n",
       "3960  [21, 16067, 30, 9253, 160, 437, 2001, 1293, 1,...   \n",
       "3961                        [61, 2904, 10087, 4181, 45]   \n",
       "\n",
       "                                                  link  \n",
       "15               https://myanimelist.net/profile/12sed  \n",
       "31         https://myanimelist.net/profile/ggultra2764  \n",
       "50       https://myanimelist.net/profile/BabyGirl06301  \n",
       "52    https://myanimelist.net/profile/ImTheRhetorician  \n",
       "118           https://myanimelist.net/profile/Dante012  \n",
       "...                                                ...  \n",
       "3957         https://myanimelist.net/profile/milkman57  \n",
       "3958            https://myanimelist.net/profile/lahzor  \n",
       "3959      https://myanimelist.net/profile/Ston3_FreeN7  \n",
       "3960           https://myanimelist.net/profile/link9us  \n",
       "3961       https://myanimelist.net/profile/theeggman85  \n",
       "\n",
       "[331 rows x 5 columns]"
      ]
     },
     "execution_count": 38,
     "metadata": {},
     "output_type": "execute_result"
    }
   ],
   "source": [
    "df3[df3['profile'].isin(list(gk1.get_group(20)['profile'].values))]"
   ]
  },
  {
   "cell_type": "code",
   "execution_count": 39,
   "id": "c87fb608",
   "metadata": {},
   "outputs": [],
   "source": [
    "l3=[]\n",
    "for i,idx in df3[df3['profile'].isin(list(gk1.get_group(20)['profile'].values))].iterrows():\n",
    "    for j in idx['favorites_anime']:\n",
    "        l3.append(j)\n"
   ]
  },
  {
   "cell_type": "code",
   "execution_count": 40,
   "id": "75d2685d",
   "metadata": {},
   "outputs": [
    {
     "data": {
      "text/plain": [
       "[20, 1535, 5114, 1735, 21]"
      ]
     },
     "execution_count": 40,
     "metadata": {},
     "output_type": "execute_result"
    }
   ],
   "source": [
    "[int(x) for x in list(pd.Series(l3).value_counts()[:5].index)]"
   ]
  },
  {
   "cell_type": "code",
   "execution_count": 41,
   "id": "f948a213",
   "metadata": {},
   "outputs": [
    {
     "data": {
      "text/html": [
       "<div>\n",
       "<style scoped>\n",
       "    .dataframe tbody tr th:only-of-type {\n",
       "        vertical-align: middle;\n",
       "    }\n",
       "\n",
       "    .dataframe tbody tr th {\n",
       "        vertical-align: top;\n",
       "    }\n",
       "\n",
       "    .dataframe thead th {\n",
       "        text-align: right;\n",
       "    }\n",
       "</style>\n",
       "<table border=\"1\" class=\"dataframe\">\n",
       "  <thead>\n",
       "    <tr style=\"text-align: right;\">\n",
       "      <th></th>\n",
       "      <th>uid</th>\n",
       "      <th>title</th>\n",
       "      <th>synopsis</th>\n",
       "      <th>genre</th>\n",
       "      <th>aired</th>\n",
       "      <th>episodes</th>\n",
       "      <th>members</th>\n",
       "      <th>popularity</th>\n",
       "      <th>ranked</th>\n",
       "      <th>score</th>\n",
       "      <th>img_url</th>\n",
       "      <th>link</th>\n",
       "      <th>genre_index</th>\n",
       "    </tr>\n",
       "  </thead>\n",
       "  <tbody>\n",
       "    <tr>\n",
       "      <th>3</th>\n",
       "      <td>5114</td>\n",
       "      <td>Fullmetal Alchemist: Brotherhood</td>\n",
       "      <td>\"In order for something to be obtained, someth...</td>\n",
       "      <td>[Action, Military, Adventure, Comedy, Drama, M...</td>\n",
       "      <td>Apr 5, 2009 to Jul 4, 2010</td>\n",
       "      <td>64.0</td>\n",
       "      <td>1615084</td>\n",
       "      <td>4</td>\n",
       "      <td>1.0</td>\n",
       "      <td>9.23</td>\n",
       "      <td>https://cdn.myanimelist.net/images/anime/1223/...</td>\n",
       "      <td>https://myanimelist.net/anime/5114/Fullmetal_A...</td>\n",
       "      <td>0100000010000000000000100000010000101011000</td>\n",
       "    </tr>\n",
       "    <tr>\n",
       "      <th>144</th>\n",
       "      <td>20</td>\n",
       "      <td>Naruto</td>\n",
       "      <td>Moments prior to Naruto Uzumaki's birth, a hug...</td>\n",
       "      <td>[Action, Adventure, Comedy, Super Power, Marti...</td>\n",
       "      <td>Oct 3, 2002 to Feb 8, 2007</td>\n",
       "      <td>220.0</td>\n",
       "      <td>1280914</td>\n",
       "      <td>9</td>\n",
       "      <td>670.0</td>\n",
       "      <td>7.93</td>\n",
       "      <td>https://cdn.myanimelist.net/images/anime/13/17...</td>\n",
       "      <td>https://myanimelist.net/anime/20/Naruto</td>\n",
       "      <td>0000000010000000000001000000010000110010000</td>\n",
       "    </tr>\n",
       "    <tr>\n",
       "      <th>485</th>\n",
       "      <td>1735</td>\n",
       "      <td>Naruto: Shippuuden</td>\n",
       "      <td>It has been two and a half years since Naruto ...</td>\n",
       "      <td>[Action, Adventure, Comedy, Super Power, Marti...</td>\n",
       "      <td>Feb 15, 2007 to Mar 23, 2017</td>\n",
       "      <td>500.0</td>\n",
       "      <td>1059649</td>\n",
       "      <td>19</td>\n",
       "      <td>318.0</td>\n",
       "      <td>8.20</td>\n",
       "      <td>https://cdn.myanimelist.net/images/anime/5/174...</td>\n",
       "      <td>https://myanimelist.net/anime/1735/Naruto__Shi...</td>\n",
       "      <td>0000000010000000000001000000010000110010000</td>\n",
       "    </tr>\n",
       "    <tr>\n",
       "      <th>707</th>\n",
       "      <td>21</td>\n",
       "      <td>One Piece</td>\n",
       "      <td>Gol D. Roger was known as the \"Pirate King,\" t...</td>\n",
       "      <td>[Action, Adventure, Comedy, Super Power, Drama...</td>\n",
       "      <td>Oct 20, 1999 to ?</td>\n",
       "      <td>NaN</td>\n",
       "      <td>948342</td>\n",
       "      <td>35</td>\n",
       "      <td>86.0</td>\n",
       "      <td>8.53</td>\n",
       "      <td>https://cdn.myanimelist.net/images/anime/6/732...</td>\n",
       "      <td>https://myanimelist.net/anime/21/One_Piece</td>\n",
       "      <td>0000000010000000000001100000010000100011000</td>\n",
       "    </tr>\n",
       "    <tr>\n",
       "      <th>740</th>\n",
       "      <td>1535</td>\n",
       "      <td>Death Note</td>\n",
       "      <td>A shinigami, as a god of death, can kill any p...</td>\n",
       "      <td>[Mystery, Police, Psychological, Supernatural,...</td>\n",
       "      <td>Oct 4, 2006 to Jun 27, 2007</td>\n",
       "      <td>37.0</td>\n",
       "      <td>1871043</td>\n",
       "      <td>1</td>\n",
       "      <td>52.0</td>\n",
       "      <td>8.65</td>\n",
       "      <td>https://cdn.myanimelist.net/images/anime/9/945...</td>\n",
       "      <td>https://myanimelist.net/anime/1535/Death_Note</td>\n",
       "      <td>0000010000000100100100000100000000100000000</td>\n",
       "    </tr>\n",
       "  </tbody>\n",
       "</table>\n",
       "</div>"
      ],
      "text/plain": [
       "      uid                             title  \\\n",
       "3    5114  Fullmetal Alchemist: Brotherhood   \n",
       "144    20                            Naruto   \n",
       "485  1735                Naruto: Shippuuden   \n",
       "707    21                         One Piece   \n",
       "740  1535                        Death Note   \n",
       "\n",
       "                                              synopsis  \\\n",
       "3    \"In order for something to be obtained, someth...   \n",
       "144  Moments prior to Naruto Uzumaki's birth, a hug...   \n",
       "485  It has been two and a half years since Naruto ...   \n",
       "707  Gol D. Roger was known as the \"Pirate King,\" t...   \n",
       "740  A shinigami, as a god of death, can kill any p...   \n",
       "\n",
       "                                                 genre  \\\n",
       "3    [Action, Military, Adventure, Comedy, Drama, M...   \n",
       "144  [Action, Adventure, Comedy, Super Power, Marti...   \n",
       "485  [Action, Adventure, Comedy, Super Power, Marti...   \n",
       "707  [Action, Adventure, Comedy, Super Power, Drama...   \n",
       "740  [Mystery, Police, Psychological, Supernatural,...   \n",
       "\n",
       "                            aired  episodes  members  popularity  ranked  \\\n",
       "3      Apr 5, 2009 to Jul 4, 2010      64.0  1615084           4     1.0   \n",
       "144    Oct 3, 2002 to Feb 8, 2007     220.0  1280914           9   670.0   \n",
       "485  Feb 15, 2007 to Mar 23, 2017     500.0  1059649          19   318.0   \n",
       "707             Oct 20, 1999 to ?       NaN   948342          35    86.0   \n",
       "740   Oct 4, 2006 to Jun 27, 2007      37.0  1871043           1    52.0   \n",
       "\n",
       "     score                                            img_url  \\\n",
       "3     9.23  https://cdn.myanimelist.net/images/anime/1223/...   \n",
       "144   7.93  https://cdn.myanimelist.net/images/anime/13/17...   \n",
       "485   8.20  https://cdn.myanimelist.net/images/anime/5/174...   \n",
       "707   8.53  https://cdn.myanimelist.net/images/anime/6/732...   \n",
       "740   8.65  https://cdn.myanimelist.net/images/anime/9/945...   \n",
       "\n",
       "                                                  link  \\\n",
       "3    https://myanimelist.net/anime/5114/Fullmetal_A...   \n",
       "144            https://myanimelist.net/anime/20/Naruto   \n",
       "485  https://myanimelist.net/anime/1735/Naruto__Shi...   \n",
       "707         https://myanimelist.net/anime/21/One_Piece   \n",
       "740      https://myanimelist.net/anime/1535/Death_Note   \n",
       "\n",
       "                                     genre_index  \n",
       "3    0100000010000000000000100000010000101011000  \n",
       "144  0000000010000000000001000000010000110010000  \n",
       "485  0000000010000000000001000000010000110010000  \n",
       "707  0000000010000000000001100000010000100011000  \n",
       "740  0000010000000100100100000100000000100000000  "
      ]
     },
     "execution_count": 41,
     "metadata": {},
     "output_type": "execute_result"
    }
   ],
   "source": [
    "df1[df1['uid'].isin([int(x) for x in list(pd.Series(l3).value_counts()[:5].index)])]"
   ]
  },
  {
   "cell_type": "code",
   "execution_count": null,
   "id": "63e85f14",
   "metadata": {},
   "outputs": [],
   "source": []
  },
  {
   "cell_type": "code",
   "execution_count": null,
   "id": "cd12882e",
   "metadata": {},
   "outputs": [],
   "source": []
  }
 ],
 "metadata": {
  "kernelspec": {
   "display_name": "Python 3 (ipykernel)",
   "language": "python",
   "name": "python3"
  },
  "language_info": {
   "codemirror_mode": {
    "name": "ipython",
    "version": 3
   },
   "file_extension": ".py",
   "mimetype": "text/x-python",
   "name": "python",
   "nbconvert_exporter": "python",
   "pygments_lexer": "ipython3",
   "version": "3.10.3"
  }
 },
 "nbformat": 4,
 "nbformat_minor": 5
}
